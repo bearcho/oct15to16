{
 "cells": [
  {
   "cell_type": "code",
   "execution_count": 4,
   "metadata": {},
   "outputs": [],
   "source": [
    "# from keras.applications.vgg16 import VGG16"
   ]
  },
  {
   "cell_type": "code",
   "execution_count": 5,
   "metadata": {},
   "outputs": [],
   "source": [
    "### 실습. fashion_mnist 데이터를 활용하여 신경망구조를 생성하고 훈련시켜보세요\n",
    "### keras.datasets.fashion_mnist.load_data()"
   ]
  },
  {
   "cell_type": "code",
   "execution_count": 7,
   "metadata": {},
   "outputs": [],
   "source": [
    "import os\n",
    "import cv2\n",
    "# 케라스 모델 생성 라이브러리\n",
    "import tensorflow.keras\n",
    "from tensorflow.keras import models\n",
    "# 레이어 생성 라이브러리 (Dense: 입출력 연결)\n",
    "from tensorflow.keras import layers\n",
    "\n",
    "# numpy 라이브러리\n",
    "import numpy as np\n",
    "from numpy import array\n",
    "# 케라스 카테고리 라이브러리\n",
    "from tensorflow.keras.utils import to_categorical\n",
    "#from sklearn.preprocessing import LabelEncoder\n",
    "#from sklearn.preprocessing import OneHotEncoder\n",
    "# 시각화 라이브러리\n",
    "import matplotlib.pyplot as plt\n",
    "%matplotlib inline"
   ]
  },
  {
   "cell_type": "code",
   "execution_count": 8,
   "metadata": {},
   "outputs": [],
   "source": [
    "from tensorflow import keras"
   ]
  },
  {
   "cell_type": "code",
   "execution_count": 9,
   "metadata": {},
   "outputs": [],
   "source": [
    "# 미리 섞여진 fashoin-mnist 의 학습 데이터와 테스트 데이터 로드\n",
    "(x_train, y_train), (x_test, y_test) = keras.datasets.fashion_mnist.load_data()"
   ]
  },
  {
   "cell_type": "code",
   "execution_count": 10,
   "metadata": {},
   "outputs": [],
   "source": [
    "fashion_mnist_labels = [\"T-shirt/top\",  # 인덱스 0\n",
    "                        \"Trouser\",      # 인덱스 1\n",
    "                        \"Pullover\",     # 인덱스 2 \n",
    "                        \"Dress\",        # 인덱스 3 \n",
    "                        \"Coat\",         # 인덱스 4\n",
    "                        \"Sandal\",       # 인덱스 5\n",
    "                        \"Shirt\",        # 인덱스 6 \n",
    "                        \"Sneaker\",      # 인덱스 7 \n",
    "                        \"Bag\",          # 인덱스 8 \n",
    "                        \"Ankle boot\"]   # 인덱스 9"
   ]
  },
  {
   "cell_type": "code",
   "execution_count": 11,
   "metadata": {},
   "outputs": [
    {
     "name": "stdout",
     "output_type": "stream",
     "text": [
      "x_train shape: (60000, 28, 28) y_train shape: (60000,)\n",
      "60000 train set\n",
      "10000 test set\n"
     ]
    }
   ],
   "source": [
    "print(\"x_train shape:\", x_train.shape, \"y_train shape:\", y_train.shape)\n",
    "\n",
    "# 학습 셋과 테스트 셋의 데이터 개수\n",
    "print(x_train.shape[0], 'train set')\n",
    "print(x_test.shape[0], 'test set')\n",
    "\n",
    "# 레이블 정의\n",
    "fashion_mnist_labels = [\"T-shirt/top\",  # 인덱스 0\n",
    "                        \"Trouser\",      # 인덱스 1\n",
    "                        \"Pullover\",     # 인덱스 2 \n",
    "                        \"Dress\",        # 인덱스 3 \n",
    "                        \"Coat\",         # 인덱스 4\n",
    "                        \"Sandal\",       # 인덱스 5\n",
    "                        \"Shirt\",        # 인덱스 6 \n",
    "                        \"Sneaker\",      # 인덱스 7 \n",
    "                        \"Bag\",          # 인덱스 8 \n",
    "                        \"Ankle boot\"]   # 인덱스 9"
   ]
  },
  {
   "cell_type": "markdown",
   "metadata": {},
   "source": [
    "### 데이터 정제"
   ]
  },
  {
   "cell_type": "markdown",
   "metadata": {},
   "source": [
    "### 모델 생성 (Dense 레이어 활용!)"
   ]
  },
  {
   "cell_type": "markdown",
   "metadata": {},
   "source": [
    "### 모델 컴파일"
   ]
  },
  {
   "cell_type": "markdown",
   "metadata": {},
   "source": [
    "### 모델 훈련"
   ]
  },
  {
   "cell_type": "markdown",
   "metadata": {},
   "source": [
    "### 모델 추론"
   ]
  },
  {
   "cell_type": "markdown",
   "metadata": {},
   "source": [
    "### 모델 예측"
   ]
  }
 ],
 "metadata": {
  "kernelspec": {
   "display_name": "Python 3",
   "language": "python",
   "name": "python3"
  },
  "language_info": {
   "codemirror_mode": {
    "name": "ipython",
    "version": 3
   },
   "file_extension": ".py",
   "mimetype": "text/x-python",
   "name": "python",
   "nbconvert_exporter": "python",
   "pygments_lexer": "ipython3",
   "version": "3.7.3"
  }
 },
 "nbformat": 4,
 "nbformat_minor": 2
}
